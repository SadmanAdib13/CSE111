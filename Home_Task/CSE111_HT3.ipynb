{
  "nbformat": 4,
  "nbformat_minor": 0,
  "metadata": {
    "colab": {
      "provenance": [],
      "include_colab_link": true
    },
    "kernelspec": {
      "name": "python3",
      "display_name": "Python 3"
    },
    "language_info": {
      "name": "python"
    }
  },
  "cells": [
    {
      "cell_type": "markdown",
      "metadata": {
        "id": "view-in-github",
        "colab_type": "text"
      },
      "source": [
        "<a href=\"https://colab.research.google.com/github/SadmanAdib13/CSE111/blob/main/Home_Task/CSE111_HT3.ipynb\" target=\"_parent\"><img src=\"https://colab.research.google.com/assets/colab-badge.svg\" alt=\"Open In Colab\"/></a>"
      ]
    },
    {
      "cell_type": "code",
      "execution_count": null,
      "metadata": {
        "colab": {
          "base_uri": "https://localhost:8080/"
        },
        "id": "PwUqPN3xhFhl",
        "outputId": "e4a1d430-d4a3-4469-cf0d-28950aebf4a7"
      },
      "outputs": [
        {
          "output_type": "stream",
          "name": "stdout",
          "text": [
            "2024\n"
          ]
        }
      ],
      "source": [
        " import datetime\n",
        "x=datetime.date.today()\n",
        "x=x.year\n",
        "print(x)"
      ]
    },
    {
      "cell_type": "code",
      "source": [
        "#Task  1\n",
        "import datetime\n",
        "\n",
        "class Book:\n",
        "    def __init__(self, book_name, writer, publish):\n",
        "        self.name = book_name\n",
        "        self.author = writer\n",
        "        self.year_of_publication = int(publish)\n",
        "        today = datetime.date.today()\n",
        "        year = today.year\n",
        "\n",
        "        if year - self.year_of_publication <= 100:\n",
        "            self.status = \"Rejected. The book is not antique enough.\"\n",
        "        elif 100 < year - self.year_of_publication < 200:\n",
        "            self.status = \"Accepted. The book is stored in floor: 0\"\n",
        "        elif 200 <= year - self.year_of_publication < 400:\n",
        "            self.status = \"Accepted. The book is stored in floor: 1.\"\n",
        "        elif year - self.year_of_publication >= 400:\n",
        "            self.status = \"Accepted. The book is stored on floor: 2.\"\n",
        "    print(\"Checking the book.\")\n",
        "\n",
        "# Test cases\n",
        "book1 = Book('The Act', 'Ferguson', 1924)\n",
        "print(f\"{book1.author} wrote the book '{book1.name}'.\")\n",
        "print(f\"This book was published in {book1.year_of_publication}.\")\n",
        "print(f\"This book is {book1.status}\")\n",
        "print(\"-------------------------------------\")\n",
        "\n",
        "book2 = Book('Flame', 'Nolan', 1932)\n",
        "print(f\"{book2.author} wrote the book '{book2.name}'.\")\n",
        "print(f\"This book was published in {book2.year_of_publication}.\")\n",
        "print(f\"This book is {book2.status}\")\n",
        "print(\"-------------------------------------\")\n",
        "\n",
        "book3 = Book('Norms', 'Alfred', 1832)\n",
        "print(f\"{book3.author} wrote the book '{book3.name}'.\")\n",
        "print(f\"This book was published in {book3.year_of_publication}.\")\n",
        "print(f\"This book is {book3.status}\")\n",
        "print(\"-------------------------------------\")\n",
        "\n",
        "book4 = Book('Apex', 'Samson', 1923)\n",
        "print(f\"{book4.author} wrote the book '{book4.name}'.\")\n",
        "print(f\"This book was published in {book4.year_of_publication}.\")\n",
        "print(f\"This book is {book4.status}\")\n",
        "print(\"-------------------------------------\")\n",
        "\n",
        "book5 = Book('Habitat', 'Eden', 1723)\n",
        "#print(\"Checking the book.\")\n",
        "print(f\"{book5.author} wrote the book '{book5.name}'.\")\n",
        "print(f\"This book was published in {book5.year_of_publication}.\")\n",
        "print(f\"This book is {book5.status}\")\n",
        "print(\"-------------------------------------\")\n",
        "\n",
        "book6 = Book('Apocalypto', 'Menez', 1603)\n",
        "#print(\"Checking the book.\")\n",
        "print(f\"{book6.author} wrote the book '{book6.name}'.\")\n",
        "print(f\"This book was published in {book6.year_of_publication}.\")\n",
        "print(f\"This book is {book6.status}\")"
      ],
      "metadata": {
        "colab": {
          "base_uri": "https://localhost:8080/"
        },
        "id": "Scn_GNnOjhX1",
        "outputId": "82820407-1fa0-471a-e5a1-4ff2e2876dac"
      },
      "execution_count": null,
      "outputs": [
        {
          "output_type": "stream",
          "name": "stdout",
          "text": [
            "Checking the book.\n",
            "Ferguson wrote the book 'The Act'.\n",
            "This book was published in 1924.\n",
            "This book is Rejected. The book is not antique enough.\n",
            "-------------------------------------\n",
            "Nolan wrote the book 'Flame'.\n",
            "This book was published in 1932.\n",
            "This book is Rejected. The book is not antique enough.\n",
            "-------------------------------------\n",
            "Alfred wrote the book 'Norms'.\n",
            "This book was published in 1832.\n",
            "This book is Accepted. The book is stored in floor: 0\n",
            "-------------------------------------\n",
            "Samson wrote the book 'Apex'.\n",
            "This book was published in 1923.\n",
            "This book is Accepted. The book is stored in floor: 0\n",
            "-------------------------------------\n",
            "Eden wrote the book 'Habitat'.\n",
            "This book was published in 1723.\n",
            "This book is Accepted. The book is stored in floor: 1.\n",
            "-------------------------------------\n",
            "Menez wrote the book 'Apocalypto'.\n",
            "This book was published in 1603.\n",
            "This book is Accepted. The book is stored on floor: 2.\n"
          ]
        }
      ]
    },
    {
      "cell_type": "code",
      "source": [
        "#Task 2\n",
        "class Pokemon:\n",
        "    def __init__(self, pokemon_1_name,pokemon_2_name,pokemon_1_power,pokemon_2_power,dr):\n",
        "        self.pokemon1_name=pokemon_1_name\n",
        "        self.pokemon2_name=pokemon_2_name\n",
        "        self.pokemon2_power=pokemon_2_power\n",
        "        self.pokemon1_power=pokemon_1_power\n",
        "        self.damage_rate=dr\n",
        "\n",
        "team_pika = Pokemon('pikachu', 'charmander', 90, 60, 10)\n",
        "print('=======Team 1=======')\n",
        "print('Pokemon 1:', team_pika.pokemon1_name, team_pika.pokemon1_power)\n",
        "print('Pokemon 2:', team_pika.pokemon2_name, team_pika.pokemon2_power)\n",
        "pika_combined_power = (team_pika.pokemon1_power + team_pika.pokemon2_power) * team_pika.damage_rate\n",
        "print('Combined Power:', pika_combined_power)\n",
        "\n",
        "team_bulb = Pokemon('bulbasaur', 'squirtle', 80, 70, 9)\n",
        "print('=======Team 2=======')\n",
        "print('Pokemon 1:', team_bulb.pokemon1_name, team_bulb.pokemon1_power)\n",
        "print('Pokemon 2:', team_bulb.pokemon2_name, team_bulb.pokemon2_power)\n",
        "bulb_combined_power = (team_bulb.pokemon1_power + team_bulb.pokemon2_power) * team_bulb.damage_rate\n",
        "print('Combined Power:', bulb_combined_power)\n"
      ],
      "metadata": {
        "colab": {
          "base_uri": "https://localhost:8080/"
        },
        "id": "Wp4H6n-cnfrC",
        "outputId": "4c3c054a-716b-420f-fced-ed5b6cc41c56"
      },
      "execution_count": null,
      "outputs": [
        {
          "output_type": "stream",
          "name": "stdout",
          "text": [
            "=======Team 1=======\n",
            "Pokemon 1: pikachu 90\n",
            "Pokemon 2: charmander 60\n",
            "Combined Power: 1500\n",
            "=======Team 2=======\n",
            "Pokemon 1: bulbasaur 80\n",
            "Pokemon 2: squirtle 70\n",
            "Combined Power: 1350\n"
          ]
        }
      ]
    },
    {
      "cell_type": "code",
      "source": [
        "#Task 3\n",
        "class box:\n",
        "  def __init__(self,args):\n",
        "    print(\"Creating a Box!\")\n",
        "    self.height=args[0]\n",
        "    self.width=args[1]\n",
        "    self.breadth=args[2]\n",
        "    #self.height,self.width,self.breadth=args\n",
        "print(\"Box 1\")\n",
        "b1 = box([10,10,10])\n",
        "print(\"=========================\")\n",
        "print(\"Height:\", b1.height)\n",
        "print(\"Width:\", b1.width)\n",
        "print(\"Breadth:\", b1.breadth)\n",
        "volume = b1.height * b1.width * b1.breadth\n",
        "print(f\"Volume of the box is {volume} cubic units.\")\n",
        "print(\"-------------------------\")\n",
        "print(\"Box 2\")\n",
        "b2 = box((30,10,10))\n",
        "print(\"=========================\")\n",
        "print(\"Height:\", b2.height)\n",
        "print(\"Width:\", b2.width)\n",
        "print(\"Breadth:\", b2.breadth)\n",
        "volume = b2.height * b2.width * b2.breadth\n",
        "print(f\"Volume of the box is {volume} cubic units.\")\n",
        "b2.height = 300\n",
        "print(\"Updating Box 2!\")\n",
        "print(\"Height:\", b2.height)\n",
        "print(\"Width:\", b2.width)\n",
        "print(\"Breadth:\", b2.breadth)\n",
        "volume = b2.height * b2.width * b2.breadth\n",
        "print(f\"Volume of the box is {volume} cubic units.\")\n",
        "print(\"-------------------------\")\n",
        "print(\"Box 3\")\n",
        "b3 = b2\n",
        "print(b3)\n",
        "print(b2)\n",
        "print(\"Height:\", b3.height)\n",
        "print(\"Width:\", b3.width)\n",
        "print(\"Breadth:\", b3.breadth)\n",
        "volume = b3.height * b3.width * b3.breadth\n",
        "print(f\"Volume of the box is {volume} cubic units.\")\n",
        "\n",
        "one = (b3 == b2)\n",
        "\n",
        "b3.width = 100\n",
        "two = (b3 == b2)\n",
        "print(one)\n",
        "print(two)\n",
        "print(b2.width)"
      ],
      "metadata": {
        "colab": {
          "base_uri": "https://localhost:8080/"
        },
        "id": "v5t7q5c9u7JJ",
        "outputId": "45eac995-666c-4ab6-af95-b126b381074f"
      },
      "execution_count": null,
      "outputs": [
        {
          "output_type": "stream",
          "name": "stdout",
          "text": [
            "Box 1\n",
            "Creating a Box!\n",
            "=========================\n",
            "Height: 10\n",
            "Width: 10\n",
            "Breadth: 10\n",
            "Volume of the box is 1000 cubic units.\n",
            "-------------------------\n",
            "Box 2\n",
            "Creating a Box!\n",
            "=========================\n",
            "Height: 30\n",
            "Width: 10\n",
            "Breadth: 10\n",
            "Volume of the box is 3000 cubic units.\n",
            "Updating Box 2!\n",
            "Height: 300\n",
            "Width: 10\n",
            "Breadth: 10\n",
            "Volume of the box is 30000 cubic units.\n",
            "-------------------------\n",
            "Box 3\n",
            "<__main__.box object at 0x7928fd3e8460>\n",
            "<__main__.box object at 0x7928fd3e8460>\n",
            "Height: 300\n",
            "Width: 10\n",
            "Breadth: 10\n",
            "Volume of the box is 30000 cubic units.\n",
            "True\n",
            "True\n",
            "100\n"
          ]
        }
      ]
    },
    {
      "cell_type": "code",
      "source": [
        "#Task 4\n",
        "class Order:\n",
        "  def __init__(self,)\n",
        "\n",
        "menu = {\n",
        "    'Chicken_Cheeseburger' : 249,\n",
        "    'Mega_Cheeseburger' : 289,\n",
        "    'Fries' : 139,\n",
        "    'Hot_Wings' : 99,\n",
        "    'Rice_Bowl' : 299,\n",
        "    'Soft_Drinks' : 50\n",
        "}\n",
        "\n",
        "order1 = Order(menu, \"Chicken_Cheeseburger-2, Fries-3, Soft_Drinks-3\")\n",
        "print(order1.items)\n",
        "print()\n",
        "\n",
        "print('-'*35)\n",
        "print('Item           x Quantity :   Price')\n",
        "print('--------------   --------   -------')\n",
        "\n",
        "index = 0\n",
        "total = 0\n",
        "while index < len(order1.items):\n",
        "  item = order1.items[index]\n",
        "  quantity = order1.items[index+1]\n",
        "  price = order1.items[index+2]\n",
        "\n",
        "  print(f'{item:20} x {quantity:2} : {price:7.2f}')\n",
        "  total += price\n",
        "  index += 3 # Going to next item\n",
        "\n",
        "print('-'*35)\n",
        "print(f'Total:                      {total:7.2f}')\n",
        "print('-'*35)"
      ],
      "metadata": {
        "id": "ZneRHSmY0j2e"
      },
      "execution_count": null,
      "outputs": []
    },
    {
      "cell_type": "code",
      "source": [
        "class Student:\n",
        "    def __init__(self):\n",
        "        self.name = None\n",
        "        self.cgpa = 0.0\n",
        "s1 = Student()\n",
        "s2 = Student()\n",
        "s3 = None\n",
        "s1.name = \"Student One\"\n",
        "s1.cgpa = 2.3\n",
        "s3 = s1\n",
        "s2.name = \"Student Two\"\n",
        "s2.cgpa = s3.cgpa + 1\n",
        "s3.name = \"New Student\"\n",
        "print(s1.name)\n",
        "print(s2.name)\n",
        "print(s3.name)\n",
        "print(s1.cgpa)\n",
        "print(s2.cgpa)\n",
        "print(s3.cgpa)\n",
        "s3 = s2\n",
        "s1.name = \"old student\"\n",
        "s2.name = \"older student\"\n",
        "s3.name = \"oldest student\"\n",
        "print(\"s1.cgpa-->\",s1.cgpa)\n",
        "print(\"s3.cgpa-->\",s3.cgpa)\n",
        "s2.cgpa = s1.cgpa - s3.cgpa + 4.5\n",
        "print(\"s2.cgpa-->\",s2.cgpa)\n",
        "print(s1.name)\n",
        "print(s2.name)\n",
        "print(s3.name)\n",
        "print(s1.cgpa)\n",
        "print(s2.cgpa)\n",
        "print(s3.cgpa)"
      ],
      "metadata": {
        "colab": {
          "base_uri": "https://localhost:8080/"
        },
        "id": "fu1tm_OEAP2R",
        "outputId": "d8a1dfac-d449-43a6-a691-1cef87ee72a4"
      },
      "execution_count": null,
      "outputs": [
        {
          "output_type": "stream",
          "name": "stdout",
          "text": [
            "New Student\n",
            "Student Two\n",
            "New Student\n",
            "2.3\n",
            "3.3\n",
            "2.3\n",
            "s1.cgpa--> 2.3\n",
            "s3.cgpa--> 3.3\n",
            "s2.cgpa--> 3.5\n",
            "old student\n",
            "oldest student\n",
            "oldest student\n",
            "2.3\n",
            "3.5\n",
            "3.5\n"
          ]
        }
      ]
    },
    {
      "cell_type": "code",
      "source": [
        "class Order:\n",
        "    def __init__(self, menu, order_str):\n",
        "\n",
        "        order_items = []\n",
        "        items_list = order_str.split(', ')\n",
        "\n",
        "        for item_info in items_list:\n",
        "            item_name, quantity = item_info.split('-')\n",
        "\n",
        "            quantity = int(quantity)\n",
        "            price = menu[item_name] * quantity\n",
        "            order_items.extend([item_name, quantity, price])\n",
        "\n",
        "        self.items= order_items\n",
        "\n",
        "# Driver code (unchanged)\n",
        "menu = {\n",
        "    'Chicken_Cheeseburger': 249,\n",
        "    'Mega_Cheeseburger': 289,\n",
        "    'Fries': 139,\n",
        "    'Hot_Wings': 99,\n",
        "    'Rice_Bowl': 299,\n",
        "    'Soft_Drinks': 50\n",
        "}\n",
        "\n",
        "order1 = Order(menu, \"Chicken_Cheeseburger-2, Fries-3, Soft_Drinks-3\")\n",
        "print(order1.items)\n",
        "print()\n",
        "\n",
        "print('-'*35)\n",
        "print('Item           x Quantity :   Price')\n",
        "print('--------------   --------   -------')\n",
        "\n",
        "index = 0\n",
        "total = 0\n",
        "while index < len(order1.items):\n",
        "    item = order1.items[index]\n",
        "    quantity = order1.items[index + 1]\n",
        "    price = order1.items[index + 2]\n",
        "\n",
        "    print(f'{item:20} x {quantity:2} : {price:7.2f}')\n",
        "    total += price\n",
        "    index += 3  # Going to the next item\n",
        "\n",
        "print('-'*35)\n",
        "print(f'Total:                      {total:7.2f}')\n",
        "print('-'*35)"
      ],
      "metadata": {
        "id": "I1TGtblDG0t1"
      },
      "execution_count": null,
      "outputs": []
    }
  ]
}