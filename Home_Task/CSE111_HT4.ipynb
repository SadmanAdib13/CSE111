{
  "nbformat": 4,
  "nbformat_minor": 0,
  "metadata": {
    "colab": {
      "provenance": [],
      "authorship_tag": "ABX9TyOrx2b7N7SNva66DWLRfrBT",
      "include_colab_link": true
    },
    "kernelspec": {
      "name": "python3",
      "display_name": "Python 3"
    },
    "language_info": {
      "name": "python"
    }
  },
  "cells": [
    {
      "cell_type": "markdown",
      "metadata": {
        "id": "view-in-github",
        "colab_type": "text"
      },
      "source": [
        "<a href=\"https://colab.research.google.com/github/SadmanAdib13/CSE111/blob/main/Home_Task/CSE111_HT4.ipynb\" target=\"_parent\"><img src=\"https://colab.research.google.com/assets/colab-badge.svg\" alt=\"Open In Colab\"/></a>"
      ]
    },
    {
      "cell_type": "code",
      "source": [
        "#Task 1\n",
        "class Customer:\n",
        "    def __init__(self):\n",
        "        print(\"Welcome to ABC Memorial Park\")\n",
        "        self.tickets = []\n",
        "        self.total_price = 0\n",
        "\n",
        "    def buyTicket(self, name, age):\n",
        "        if age >= 10:\n",
        "          ticket_price=100\n",
        "        else:\n",
        "           ticket_price=50\n",
        "\n",
        "        if len(self.tickets) < 3:\n",
        "            self.tickets.append((name, ticket_price))\n",
        "\n",
        "            self.total_price += ticket_price\n",
        "            print(f\"Successfully purchased a ticket for {name}!\")\n",
        "        else:\n",
        "            print(\"You can't buy more than 3 tickets\")\n",
        "\n",
        "    def showDetails(self):\n",
        "        print(f\"Amount of tickets: {len(self.tickets)}\")\n",
        "        print(f\"Total price: {self.total_price} Taka\")\n",
        "\n",
        "customer1 = Customer()\n",
        "print(\"2-----\")\n",
        "\n",
        "customer1.buyTicket('Bob', 23)\n",
        "customer1.buyTicket('Henry', 7)\n",
        "customer1.buyTicket('Alexa', 30)\n",
        "customer1.buyTicket('Jonas', 43)\n",
        "print(\"3-----\")\n",
        "customer1.showDetails()\n",
        "print(\"4-----------\")\n",
        "\n",
        "customer2 = Customer()\n",
        "\n",
        "print(\"5--\")\n",
        "customer2.buyTicket('Harry', 60)\n",
        "customer2.buyTicket('Tomas', 28)\n",
        "print(\"6---\")\n",
        "customer2.showDetails()"
      ],
      "metadata": {
        "id": "IPxU7Nbgqy_w",
        "outputId": "7f6aa4f2-6a74-4354-9ad7-47691f850ecd",
        "colab": {
          "base_uri": "https://localhost:8080/"
        }
      },
      "execution_count": null,
      "outputs": [
        {
          "output_type": "stream",
          "name": "stdout",
          "text": [
            "Welcome to ABC Memorial Park\n",
            "2-----\n",
            "Successfully purchased a ticket for Bob!\n",
            "Successfully purchased a ticket for Henry!\n",
            "Successfully purchased a ticket for Alexa!\n",
            "You can't buy more than 3 tickets\n",
            "3-----\n",
            "Amount of tickets: 3\n",
            "Total price: 250 Taka\n",
            "4-----------\n",
            "Welcome to ABC Memorial Park\n",
            "5--\n",
            "Successfully purchased a ticket for Harry!\n",
            "Successfully purchased a ticket for Tomas!\n",
            "6---\n",
            "Amount of tickets: 2\n",
            "Total price: 200 Taka\n"
          ]
        }
      ]
    },
    {
      "cell_type": "code",
      "source": [
        "#Task 2\n",
        "class Panda:\n",
        "  def __init__(self,name,gender,age):\n",
        "    self.name=name\n",
        "    self.gender=gender\n",
        "    self.age=age\n",
        "  def sleep(self,hours):\n",
        "    if hours>=13 :\n",
        "        return (f'{self.name} duration is unknown thus should have only bamboo leaves')\n",
        "\n",
        "    elif 3<=hours and hours<= 5 :\n",
        "        return (f'{self.name} sleeps {hours} hours daily and should have Mixed Veggies')\n",
        "\n",
        "    elif 6<=hours and hours<= 8 :\n",
        "        return (f'{self.name} sleeps {hours} hours daily and should have Eggplant & Tofu')\n",
        "\n",
        "    elif hours>=9 and hours<=11 :\n",
        "        return (f'{self.name} sleeps {hours} hours daily and should have Broccoli Chicken')\n",
        "\n",
        "#----------------------------------------------------------------------------------------------\n",
        "panda1 = Panda(\"Kunfu\", \"Male\", 5)\n",
        "panda2 = Panda(\"Pan Pan\", \"Female\",3)\n",
        "panda3 = Panda(\"Ming Ming\", \"Female\",8)\n",
        "\n",
        "print(\"{} is a {} Panda Bear who is {} years old\".format(panda1.name,panda1.gender,panda1.age))\n",
        "\n",
        "print(\"{} is a {} Panda Bear who is {} years old\".format(panda2.name,panda2.gender,panda2.age))\n",
        "\n",
        "print(\"{} is a {} Panda Bear who is {} years old\".format(panda3.name,panda3.gender,panda3.age))\n",
        "print(\"===========================\")\n",
        "print(panda2.sleep(10))\n",
        "print(panda1.sleep(4))\n",
        "print(panda3.sleep(13))"
      ],
      "metadata": {
        "id": "9g5r9gnCxOP-",
        "outputId": "5ab3a8fb-a1ea-45cd-9bdb-c733786e4836",
        "colab": {
          "base_uri": "https://localhost:8080/"
        }
      },
      "execution_count": null,
      "outputs": [
        {
          "output_type": "stream",
          "name": "stdout",
          "text": [
            "Kunfu is a Male Panda Bear who is 5 years old\n",
            "Pan Pan is a Female Panda Bear who is 3 years old\n",
            "Ming Ming is a Female Panda Bear who is 8 years old\n",
            "===========================\n",
            "Pan Pan sleeps 10 hours daily and should have Broccoli Chicken\n",
            "Kunfu sleeps 4 hours daily and should have Mixed Veggies\n",
            "Ming Ming duration is unknown thus should have only bamboo leaves\n"
          ]
        }
      ]
    },
    {
      "cell_type": "code",
      "source": [
        "#Task 3\n",
        "class GreenPhone:\n",
        "    def __init__(self, model_name, android_version, num_cameras):\n",
        "        self.phone_company = 'GreenPhone'\n",
        "        self.model_name = model_name\n",
        "        self.android_version = android_version\n",
        "        self.num_cameras = num_cameras\n",
        "\n",
        "    def showSpecification(self):\n",
        "        print(f'Phone Company: {self.phone_company}')\n",
        "        print(f'Model Name: {self.model_name}')\n",
        "        print(f'Android Version: {self.android_version}')\n",
        "        print(f'Number of Cameras: {self.num_cameras}')\n",
        "\n",
        "    def updatePhone(self):\n",
        "        self.android_version += 1\n",
        "        print(f'Your phone {self.phone_company} {self.model_name} is upgraded to Android Version: {self.android_version}.')\n",
        "\n",
        "\n",
        "# Driver Code\n",
        "print('1=======================')\n",
        "p1 = GreenPhone('A1', 12, 3)\n",
        "p2 = GreenPhone('M11', 12, 4)\n",
        "p3 = GreenPhone('U20', 12, 5)\n",
        "p1.showSpecification()\n",
        "\n",
        "print('2=======================')\n",
        "p2.showSpecification()\n",
        "\n",
        "print('3=======================')\n",
        "p1.updatePhone()\n",
        "\n",
        "print('4=======================')\n",
        "p1.updatePhone()\n",
        "p2.updatePhone()\n",
        "p3.updatePhone()\n",
        "\n",
        "print('5=======================')\n",
        "p1.updatePhone()\n",
        "p2.updatePhone()\n",
        "p3.updatePhone()\n",
        "\n",
        "print('6=======================')\n",
        "p2.updatePhone()\n",
        "p3.updatePhone()\n",
        "\n",
        "print('7=======================')\n",
        "p1.showSpecification()\n",
        "p3.showSpecification()"
      ],
      "metadata": {
        "colab": {
          "base_uri": "https://localhost:8080/"
        },
        "id": "Nt0cGZNd1exZ",
        "outputId": "6ab66790-f377-46be-c992-c27f7f8dc7fc"
      },
      "execution_count": null,
      "outputs": [
        {
          "output_type": "stream",
          "name": "stdout",
          "text": [
            "1=======================\n",
            "Phone Company: GreenPhone\n",
            "Model Name: A1\n",
            "Android Version: 12\n",
            "Number of Cameras: 3\n",
            "2=======================\n",
            "Phone Company: GreenPhone\n",
            "Model Name: M11\n",
            "Android Version: 12\n",
            "Number of Cameras: 4\n",
            "3=======================\n",
            "Your phone GreenPhone A1 is upgraded to Android Version: 13.\n",
            "4=======================\n",
            "Your phone GreenPhone A1 is upgraded to Android Version: 14.\n",
            "Your phone GreenPhone M11 is upgraded to Android Version: 13.\n",
            "Your phone GreenPhone U20 is upgraded to Android Version: 13.\n",
            "5=======================\n",
            "Your phone GreenPhone A1 is upgraded to Android Version: 15.\n",
            "Your phone GreenPhone M11 is upgraded to Android Version: 14.\n",
            "Your phone GreenPhone U20 is upgraded to Android Version: 14.\n",
            "6=======================\n",
            "Your phone GreenPhone M11 is upgraded to Android Version: 15.\n",
            "Your phone GreenPhone U20 is upgraded to Android Version: 15.\n",
            "7=======================\n",
            "Phone Company: GreenPhone\n",
            "Model Name: A1\n",
            "Android Version: 15\n",
            "Number of Cameras: 3\n",
            "Phone Company: GreenPhone\n",
            "Model Name: U20\n",
            "Android Version: 15\n",
            "Number of Cameras: 5\n"
          ]
        }
      ]
    },
    {
      "cell_type": "code",
      "source": [
        "#Task 4\n",
        "class StudentDatabase:\n",
        "    def __init__(self,name,student_id):\n",
        "        self.name = name\n",
        "        self.student_id = student_id\n",
        "        self.grades = {}\n",
        "\n",
        "    def calculateGPA(self,*data):\n",
        "\n",
        "        semester = data[1]\n",
        "        courses = data[0]\n",
        "\n",
        "        grade = 0\n",
        "        course = []\n",
        "        semester_dict = {}\n",
        "\n",
        "        for i in courses :\n",
        "            x = i.split(\": \")\n",
        "            print(x)\n",
        "            course.append(x[0])\n",
        "            grade += float(x[1])\n",
        "\n",
        "        cgpa = round(grade/len(course),2)\n",
        "        semester_dict.update({tuple(course) : cgpa})\n",
        "\n",
        "        self.grades.update({semester: semester_dict})\n",
        "\n",
        "    def printDetails(self):\n",
        "        print(f\"Name: {self.name}\")\n",
        "        print(f\"ID: {self.student_id}\")\n",
        "\n",
        "        for i,j in self.grades.items():\n",
        "            print(f\"Courses taken in {i}:\")\n",
        "            for l,k in j.items():\n",
        "                for p in l:\n",
        "                    print(p)\n",
        "                print(f\"GPA: {k}\")\n",
        "\n",
        "\n",
        "s1 = StudentDatabase('Pietro', '10101222')\n",
        "s1.calculateGPA(['CSE230: 4.0', 'CSE220: 4.0', 'MAT110: 4.0'], 'Summer2020')\n",
        "s1.calculateGPA(['CSE250: 3.7', 'CSE330: 4.0'], 'Summer2021')\n",
        "print(f'Grades for {s1.name}\\n{s1.grades}')\n",
        "print('------------------------------------------------------')\n",
        "s1.printDetails()\n",
        "s2 = StudentDatabase('Wanda', '10103332')\n",
        "s2.calculateGPA(['CSE111: 3.7', 'CSE260: 3.7', 'ENG101: 4.0'], 'Summer2022')\n",
        "print('------------------------------------------------------')\n",
        "print(f'Grades for {s2.name}\\n{s2.grades}')\n",
        "print('------------------------------------------------------')\n",
        "s2.printDetails()"
      ],
      "metadata": {
        "id": "0NyrPOsnwrg1",
        "colab": {
          "base_uri": "https://localhost:8080/"
        },
        "outputId": "6af94003-1643-416b-b934-8032575c5801"
      },
      "execution_count": null,
      "outputs": [
        {
          "output_type": "stream",
          "name": "stdout",
          "text": [
            "['CSE230', '4.0']\n",
            "['CSE220', '4.0']\n",
            "['MAT110', '4.0']\n",
            "['CSE250', '3.7']\n",
            "['CSE330', '4.0']\n",
            "Grades for Pietro\n",
            "{'Summer2020': {('CSE230', 'CSE220', 'MAT110'): 4.0}, 'Summer2021': {('CSE250', 'CSE330'): 3.85}}\n",
            "------------------------------------------------------\n",
            "Name: Pietro\n",
            "ID: 10101222\n",
            "Courses taken in Summer2020:\n",
            "CSE230\n",
            "CSE220\n",
            "MAT110\n",
            "GPA: 4.0\n",
            "Courses taken in Summer2021:\n",
            "CSE250\n",
            "CSE330\n",
            "GPA: 3.85\n",
            "['CSE111', '3.7']\n",
            "['CSE260', '3.7']\n",
            "['ENG101', '4.0']\n",
            "------------------------------------------------------\n",
            "Grades for Wanda\n",
            "{'Summer2022': {('CSE111', 'CSE260', 'ENG101'): 3.8}}\n",
            "------------------------------------------------------\n",
            "Name: Wanda\n",
            "ID: 10103332\n",
            "Courses taken in Summer2022:\n",
            "CSE111\n",
            "CSE260\n",
            "ENG101\n",
            "GPA: 3.8\n"
          ]
        }
      ]
    }
  ]
}