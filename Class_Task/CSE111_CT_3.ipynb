{
  "nbformat": 4,
  "nbformat_minor": 0,
  "metadata": {
    "colab": {
      "provenance": [],
      "authorship_tag": "ABX9TyMUW+H0ukzUP9CgBx7vOe0E",
      "include_colab_link": true
    },
    "kernelspec": {
      "name": "python3",
      "display_name": "Python 3"
    },
    "language_info": {
      "name": "python"
    }
  },
  "cells": [
    {
      "cell_type": "markdown",
      "metadata": {
        "id": "view-in-github",
        "colab_type": "text"
      },
      "source": [
        "<a href=\"https://colab.research.google.com/github/SadmanAdib13/CSE111/blob/main/Class_Task/CSE111_CT_3.ipynb\" target=\"_parent\"><img src=\"https://colab.research.google.com/assets/colab-badge.svg\" alt=\"Open In Colab\"/></a>"
      ]
    },
    {
      "cell_type": "code",
      "execution_count": null,
      "metadata": {
        "colab": {
          "base_uri": "https://localhost:8080/"
        },
        "id": "JpTL0Ul9gdBU",
        "outputId": "57f75781-200e-4065-cf91-03fda159b99c"
      },
      "outputs": [
        {
          "output_type": "stream",
          "name": "stdout",
          "text": [
            "=====================================\n",
            "User Name: Bilbo\n",
            "Balance: 1.0\n",
            "Account Type: Savings\n",
            "=====================================\n",
            "User Name: Frodo\n",
            "Balance: 1.0\n",
            "Account Type: Business\n",
            "=====================================\n",
            "New account balance of Bilbo is 15.75\n",
            "New account balance of Frodo is 700.5\n"
          ]
        }
      ],
      "source": [
        "#Task1\n",
        "class BankAccount:\n",
        "  def __init__(self,name,ty):\n",
        "    self.user_name=name\n",
        "    self.account_type=ty\n",
        "    self.balance=1.0\n",
        "\n",
        "account1 = BankAccount(\"Bilbo\", \"Savings\")\n",
        "print(\"=====================================\")\n",
        "print(f\"User Name: {account1.user_name}\")\n",
        "print(f\"Balance: {account1.balance}\")\n",
        "print(f\"Account Type:\", account1.account_type)\n",
        "print(\"=====================================\")\n",
        "account2 = BankAccount(\"Frodo\", \"Business\")\n",
        "print(f\"User Name: {account2.user_name}\")\n",
        "print(f\"Balance: {account2.balance}\")\n",
        "print(f\"Account Type: {account2.account_type}\")\n",
        "print(\"=====================================\")\n",
        "#2\n",
        "account1.balance=15.75\n",
        "account2.balance=700.5\n",
        "print(f'New account balance of Bilbo is {account1.balance}')\n",
        "print(f'New account balance of Frodo is {account2.balance}')"
      ]
    },
    {
      "cell_type": "code",
      "source": [
        "#Task2\n",
        "class MangoTree:\n",
        "  def __init__(self,var):\n",
        "    self.variety=var\n",
        "    self.height=1\n",
        "    self.number_of_mangoes=0\n",
        "\n",
        "\n",
        "mangoTree1=MangoTree(\"Gopalbhog\")\n",
        "# Display the details of the mango tree\n",
        "print(\"=====================================\")\n",
        "print(\"Mango Tree Details:\")\n",
        "print(f\"Variety: {mangoTree1.variety}\")\n",
        "print(f\"Height: {mangoTree1.height} meter(s)\")\n",
        "print(f\"Number of mangoes on the tree: {mangoTree1.number_of_mangoes}\")\n",
        "print(\"=====================================\")\n",
        "mangoTree2= MangoTree(\"Amrapali\")\n",
        "# Display the details of the mango tree\n",
        "print(\"Mango Tree Details:\")\n",
        "print(f\"Variety: {mangoTree2.variety}\")\n",
        "print(f\"Height: {mangoTree2.height} meter(s)\")\n",
        "print(f\"Number of mangoes on the tree: {mangoTree2.number_of_mangoes}\")\n",
        "print(\"=====================================\")\n",
        "mangoTree1.height=(3*5)+1\n",
        "mangoTree1.number_of_mangoes=((3*5)+1)*10\n",
        "mangoTree2.height=(3*5)+1\n",
        "mangoTree2.number_of_mangoes=((3*5)+1)*15\n",
        "print(\"Updated details after 5 years.\")\n",
        "print(\"Variety:\",mangoTree1.variety)\n",
        "print(\"Height:\",mangoTree1.height)\n",
        "print(\"Number of mangoes on trees:\",mangoTree1.number_of_mangoes)\n",
        "print(\"Variety:\",mangoTree2.variety)\n",
        "print(\"Height:\",mangoTree2.height)\n",
        "print(\"Number of mangoes on trees:\",mangoTree2.number_of_mangoes)\n",
        "print(\"=========================================================\")\n",
        "\n",
        "\n"
      ],
      "metadata": {
        "colab": {
          "base_uri": "https://localhost:8080/"
        },
        "id": "15M1xbhGiP8V",
        "outputId": "c68b9b80-c686-4552-ab63-a6ffecb0dbc7"
      },
      "execution_count": null,
      "outputs": [
        {
          "output_type": "stream",
          "name": "stdout",
          "text": [
            "=====================================\n",
            "Mango Tree Details:\n",
            "Variety: Gopalbhog\n",
            "Height: 1 meter(s)\n",
            "Number of mangoes on the tree: 0\n",
            "=====================================\n",
            "Mango Tree Details:\n",
            "Variety: Amrapali\n",
            "Height: 1 meter(s)\n",
            "Number of mangoes on the tree: 0\n",
            "=====================================\n",
            "Updated details after 5 years.\n",
            "Variety: Gopalbhog\n",
            "Height: 16\n",
            "Number of mangoes on trees: 160\n",
            "Variety: Amrapali\n",
            "Height: 16\n",
            "Number of mangoes on trees: 240\n",
            "=========================================================\n"
          ]
        }
      ]
    },
    {
      "cell_type": "code",
      "source": [
        "#Task3\n",
        "class Contacts:\n",
        " def __init__(self,name,number):\n",
        "    self.name=name\n",
        "    self.number=number\n",
        "    self.contactDict={}\n",
        "    if len(self.name)!=len(self.number):\n",
        "      print('Contacts cannot be saved. Length Mismatch!')\n",
        "    else:\n",
        "      print(\"Contacts saved successfully.\")\n",
        "      for i in range(len(self.name)):\n",
        "          self.contactDict[self.name[i]]=self.number[i]\n",
        "\n",
        "\n",
        "names= [\"Emergency\", \"Father\", \"Bestie\"]\n",
        "numbers = [\"999\", \"01xx23\", \"01xx87\", \"01xx65\", \"01xx43\"]\n",
        "\n",
        "m1 = Contacts(names, numbers)\n",
        "print(\"Saved Contacts:\", m1.contactDict)\n",
        "print(\"---------------------------------------------\")\n",
        "temp=m1\n",
        "\n",
        "names.append(\"Mother\")\n",
        "numbers.pop()\n",
        "\n",
        "m2 = Contacts(names, numbers)\n",
        "print(\"Saved Contacts:\", m2.contactDict)\n",
        "m1 = Contacts(names, numbers)\n",
        "\n",
        "if m1==temp:\n",
        "#if m1 is temp:\n",
        "  print(\"Same reference!\")\n",
        "else:\n",
        "  print(\"Not same reference!\")\n"
      ],
      "metadata": {
        "colab": {
          "base_uri": "https://localhost:8080/"
        },
        "id": "6htumkrWnbeL",
        "outputId": "f34372e6-fbe5-4727-f399-562159df8a9e"
      },
      "execution_count": null,
      "outputs": [
        {
          "output_type": "stream",
          "name": "stdout",
          "text": [
            "Contacts cannot be saved. Length Mismatch!\n",
            "Saved Contacts: {}\n",
            "---------------------------------------------\n",
            "Contacts saved successfully.\n",
            "Saved Contacts: {'Emergency': '999', 'Father': '01xx23', 'Bestie': '01xx87', 'Mother': '01xx65'}\n",
            "Contacts saved successfully.\n",
            "Not same reference!\n"
          ]
        }
      ]
    },
    {
      "cell_type": "code",
      "source": [
        "#Task 4\n",
        "class Student:\n",
        " def __init__(self, name, cgpa, courses_taken):\n",
        "        self.name = name\n",
        "        self.cgpa = cgpa\n",
        "        self.courses_taken = courses_taken\n",
        "\n",
        "\n",
        "        if self.cgpa < 2.00:\n",
        "             self.student_status=\"Probation\"\n",
        "        else:\n",
        "            print(f\"All the best, {name}, for the upcoming semester.\")\n",
        "            self.student_status=\"Regular\"\n",
        "\n",
        "\n",
        "        if self.student_status == \"Probation\":\n",
        "            if 1 <= self.courses_taken <= 2:\n",
        "                self.advising_status= \"Approved\"\n",
        "            else:\n",
        "                print(f'Sorry, {name}, you are on probation and cannot take more than 2 courses.')\n",
        "                self.advising_status= \"Denied\"\n",
        "                self.courses_taken=0\n",
        "        elif self.student_status == \"Regular\":\n",
        "            if 3 <= self.courses_taken <= 5:\n",
        "                self.advising_status= \"Approved\"\n",
        "            else:\n",
        "                print(f'Hello {name}, You are a regular student and have to take between 3 to 5 courses.')\n",
        "                self.advising_status= \"Denied\"\n",
        "\n",
        "\n",
        "        else:\n",
        "            self.advising_status= \"Unknown\"\n",
        "s1 = Student(\"Clark\", 3.45, 4)\n",
        "print(f\"Name: {s1.name}\\nCGPA: {s1.cgpa}\\nCourses Taken: {s1.courses_taken}\")\n",
        "print(f\"Student Status: {s1.student_status}\\nAdvising Status: {s1.advising_status}\")\n",
        "print(\"--------------------------------------------------------------------------------\")\n",
        "s2 = Student(\"Barry\", 1.93, 2)\n",
        "print(f\"Name: {s2.name}\")\n",
        "print(f\"Student Status: {s2.student_status}\\nAdvising Status: {s2.advising_status}\")\n",
        "print(\"--------------------------------------------------------------------------------\")\n",
        "s3 = Student(\"Diana\", 2.91, 2)\n",
        "print(f\"Advising Status: {s3.advising_status}\\nCourses Taken: {s3.courses_taken}\")\n",
        "print(\"--------------------------------------------------------------------------------\")\n",
        "s4 = Student(\"Bruce\", 1.52, 5)\n",
        "print(f\"Advising Status: {s4.advising_status}\\nCourses Taken: {s4.courses_taken}\")\n"
      ],
      "metadata": {
        "colab": {
          "base_uri": "https://localhost:8080/"
        },
        "id": "LVPJeJeUvO0N",
        "outputId": "08c37d49-3ee6-4c90-ea3e-ec684e9e5af6"
      },
      "execution_count": null,
      "outputs": [
        {
          "output_type": "stream",
          "name": "stdout",
          "text": [
            "All the best, Clark, for the upcoming semester.\n",
            "Name: Clark\n",
            "CGPA: 3.45\n",
            "Courses Taken: 4\n",
            "Student Status: Regular\n",
            "Advising Status: Approved\n",
            "--------------------------------------------------------------------------------\n",
            "Name: Barry\n",
            "Student Status: Probation\n",
            "Advising Status: Approved\n",
            "--------------------------------------------------------------------------------\n",
            "All the best, Diana, for the upcoming semester.\n",
            "Hello Diana, You are a regular student and have to take between 3 to 5 courses.\n",
            "Advising Status: Denied\n",
            "Courses Taken: 2\n",
            "--------------------------------------------------------------------------------\n",
            "Sorry, Bruce, you are on probation and cannot take more than 2 courses.\n",
            "Advising Status: Denied\n",
            "Courses Taken: 0\n"
          ]
        }
      ]
    }
  ]
}