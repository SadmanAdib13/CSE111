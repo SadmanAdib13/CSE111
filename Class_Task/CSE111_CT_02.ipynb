{
  "nbformat": 4,
  "nbformat_minor": 0,
  "metadata": {
    "colab": {
      "provenance": [],
      "authorship_tag": "ABX9TyP1uUWo87WHz+aGMTTBU7oz",
      "include_colab_link": true
    },
    "kernelspec": {
      "name": "python3",
      "display_name": "Python 3"
    },
    "language_info": {
      "name": "python"
    }
  },
  "cells": [
    {
      "cell_type": "markdown",
      "metadata": {
        "id": "view-in-github",
        "colab_type": "text"
      },
      "source": [
        "<a href=\"https://colab.research.google.com/github/SadmanAdib13/CSE111/blob/main/Class_Task/CSE111_CT_02.ipynb\" target=\"_parent\"><img src=\"https://colab.research.google.com/assets/colab-badge.svg\" alt=\"Open In Colab\"/></a>"
      ]
    },
    {
      "cell_type": "code",
      "execution_count": null,
      "metadata": {
        "colab": {
          "base_uri": "https://localhost:8080/"
        },
        "id": "H_PphowjeT3j",
        "outputId": "faf436c6-7616-4644-ddd9-fb4a41e31a93"
      },
      "outputs": [
        {
          "output_type": "stream",
          "name": "stdout",
          "text": [
            "Your score is 31.3.You are obese.\n"
          ]
        }
      ],
      "source": [
        "#Task-1\n",
        "def BMI(weight,height_cm):\n",
        "  height_m=height_cm/100\n",
        "  bmi=round(weight/(height_m**2),1)\n",
        "\n",
        "  if bmi<18.5:\n",
        "    condition=\"underweight\"\n",
        "  elif 18.5<=bmi<=24.9:\n",
        "    condition=\"normal\"\n",
        "  elif 25<=bmi<30:\n",
        "    condition=\"overweight\"\n",
        "  else:\n",
        "    condition=\"obese\"\n",
        "  print(f\"Your score is {bmi}.You are {condition}.\")\n",
        "\n",
        "BMI(96,175)"
      ]
    },
    {
      "cell_type": "code",
      "source": [
        "#Task2\n",
        "def food_delevery(food,location=\"Mohakhali\"):\n",
        "  if food==\"BBQ Chicken Cheese Burger\":\n",
        "    price=250\n",
        "  elif food==\"Beef Burger\":\n",
        "    price=170\n",
        "  elif food==\"Naga Drums\":\n",
        "     price=200\n",
        "  if location==\"Mohakhali\":\n",
        "    delevery_charge=40\n",
        "  else:\n",
        "    delevery_charge=60\n",
        "  tax=(price*0.08)\n",
        "  total_price=price+delevery_charge+tax\n",
        "  return total_price\n",
        "\n",
        "print(food_delevery(\"Beef Burger\",\"Dhanmondi\"))\n",
        "print(food_delevery(\"Beef Burger\"))\n",
        "\n"
      ],
      "metadata": {
        "colab": {
          "base_uri": "https://localhost:8080/"
        },
        "id": "e7RHir0ehos5",
        "outputId": "13470b37-b1ad-453c-828b-d5a219499ca0"
      },
      "execution_count": null,
      "outputs": [
        {
          "output_type": "stream",
          "name": "stdout",
          "text": [
            "243.6\n",
            "223.6\n"
          ]
        }
      ]
    },
    {
      "cell_type": "code",
      "source": [
        "#task3\n",
        "def replace_domain(old,new,default=\"sheba.xyz\"):\n",
        "  old=old.split(\"@\")\n",
        "  oldx=old[0]+\"@\"+new\n",
        "  return oldx\n",
        "\n",
        "print(\"Uchanged:\",replace_domain(\"bob@sheba.xyz\",\"sheba.xyz\"))\n",
        "print(\"Changed:\",replace_domain(\"alice@kaaj.com\",\"sheba.xyz\",\"kaaj.com\"))"
      ],
      "metadata": {
        "colab": {
          "base_uri": "https://localhost:8080/"
        },
        "id": "SW-cvuTikqcv",
        "outputId": "78794026-9ae5-4afa-ffa2-8f09bc88ab99"
      },
      "execution_count": null,
      "outputs": [
        {
          "output_type": "stream",
          "name": "stdout",
          "text": [
            "Uchanged: bob@sheba.xyz\n",
            "Changed: alice@sheba.xyz\n"
          ]
        }
      ]
    },
    {
      "cell_type": "code",
      "source": [
        "#Task4\n",
        "def palindrome(word):\n",
        "  x=\"\"\n",
        "  for i in word:\n",
        "    if i!=\" \":\n",
        "      x+=i\n",
        "  if x== x[::-1]:\n",
        "      return \"Palindrone\"\n",
        "  else:\n",
        "      return \"Not a palindrome\"\n",
        "print(palindrome('madam'))\n",
        "print(palindrome('hello'))\n",
        "print(palindrome('nurses run'))"
      ],
      "metadata": {
        "colab": {
          "base_uri": "https://localhost:8080/"
        },
        "id": "GcqddsxfpyLc",
        "outputId": "8bb038c0-6c28-4fb2-a6ff-34cdfdc3caa9"
      },
      "execution_count": null,
      "outputs": [
        {
          "output_type": "stream",
          "name": "stdout",
          "text": [
            "Palindrone\n",
            "Not a palindrome\n",
            "Palindrone\n"
          ]
        }
      ]
    },
    {
      "cell_type": "code",
      "source": [
        "#Task5\n",
        "def days(date):\n",
        "  year= date//365\n",
        "  month= (date%365)//30\n",
        "  day=(date%365)%30\n",
        "  print(f\"{year}years , {month} months and {day} days.\")\n",
        "\n",
        "days(4320)"
      ],
      "metadata": {
        "colab": {
          "base_uri": "https://localhost:8080/"
        },
        "id": "wEmmnXHsoOOF",
        "outputId": "6c90eb34-d73d-46f7-ddb6-59b24b9f83d4"
      },
      "execution_count": null,
      "outputs": [
        {
          "output_type": "stream",
          "name": "stdout",
          "text": [
            "11years , 10 months and 5 days.\n"
          ]
        }
      ]
    },
    {
      "cell_type": "code",
      "source": [
        "#Task6\n",
        "def capital(s):\n",
        "  capital_s=\"\"\n",
        "  for i in range(len(s)):\n",
        "    if s[i]==\"i\" and i==0 and s[i+1]==\" \":\n",
        "      capital_s+=s[i].upper()\n",
        "    elif s[i-2]=='.' or s[i-2]=='?' or s[i-2]=='!':\n",
        "      if 97<=ord(s[i])<=122:\n",
        "       capital_s+=s[i].upper()\n",
        "    else:\n",
        "        capital_s+=s[i]\n",
        "  print(capital_s)\n",
        "\n",
        "capital(\"my favourite animal is dog. a dog has a sharp teeth so that it can eat fish very easily. do you know my pet dog's name? I love my pet very much. \")\n",
        "\n"
      ],
      "metadata": {
        "colab": {
          "base_uri": "https://localhost:8080/"
        },
        "id": "Sk3Oz41wtJQz",
        "outputId": "f147772d-6ac4-4033-c29b-05010ea0e891"
      },
      "execution_count": null,
      "outputs": [
        {
          "output_type": "stream",
          "name": "stdout",
          "text": [
            "My favourite animal is dog. A dog has a sharp teeth so that it can eat fish very easily. Do you know my pet dog's name?  love my pet very much. \n"
          ]
        }
      ]
    }
  ]
}